{
 "cells": [
  {
   "cell_type": "code",
   "execution_count": null,
   "metadata": {},
   "outputs": [],
   "source": [
    "# GDrive Setup \n",
    "from google.colab import drive\n",
    "drive.mount('/content/drive')\n",
    "!wget \"://zip\" -o archive.zip\n",
    "!unzip archive.zip"
   ]
  }
 ],
 "metadata": {
  "language_info": {
   "name": "python"
  },
  "orig_nbformat": 4
 },
 "nbformat": 4,
 "nbformat_minor": 2
}
